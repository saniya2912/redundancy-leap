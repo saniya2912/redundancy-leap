{
 "cells": [
  {
   "cell_type": "code",
   "execution_count": 1,
   "metadata": {},
   "outputs": [],
   "source": [
    "import numpy as np\n",
    "\n",
    "import mujoco\n",
    "\n",
    "# import numpy as np\n",
    "# import matplotlib.pyplot as plt\n",
    "\n",
    "# from scipy.linalg import null_space\n",
    "# from scipy.spatial.transform import Rotation as R"
   ]
  },
  {
   "cell_type": "code",
   "execution_count": 2,
   "metadata": {},
   "outputs": [],
   "source": [
    "from main_2sept import LeapNodeMujoco, GraspClass\n",
    "from inv_kin import GradientDescentIK, OnlyPosIK\n",
    "\n",
    "model_path = '/home/sysidea/leap_hand_mujoco/model/leap hand/for_real.xml'\n",
    "leap_hand = LeapNodeMujoco(model_path)\n",
    "\n",
    "IK_index=GradientDescentIK('/home/sysidea/leap_hand_mujoco/model/leap hand/index_finger.xml')\n",
    "IK_thumb=GradientDescentIK('/home/sysidea/leap_hand_mujoco/model/leap hand/thumb.xml')\n",
    "IK_thumb_pos=OnlyPosIK('/home/sysidea/leap_hand_mujoco/model/leap hand/thumb.xml')\n",
    "IK_middle=OnlyPosIK('/home/sysidea/leap_hand_mujoco/model/leap hand/middle.xml')\n",
    "IK_tertiary=OnlyPosIK('/home/sysidea/leap_hand_mujoco/model/leap hand/tertiary.xml')"
   ]
  },
  {
   "cell_type": "code",
   "execution_count": 3,
   "metadata": {},
   "outputs": [],
   "source": [
    "mujoco.mj_step(leap_hand.m,leap_hand.d)\n",
    "\n",
    "pos_worldi1=leap_hand.d.site(leap_hand.m.site('contact_index1').id).xpos.reshape(3)\n",
    "rot_worldi1=leap_hand.d.site(leap_hand.m.site('contact_index1').id).xmat.reshape(3,3)\n",
    "pos_worldt1=leap_hand.d.site(leap_hand.m.site('contact_thumb1').id).xpos.reshape(3)\n",
    "rot_worldt1=leap_hand.d.site(leap_hand.m.site('contact_thumb1').id).xmat.reshape(3,3)\n",
    "\n",
    "pos_worldi2=leap_hand.d.site(leap_hand.m.site('contact_index2').id).xpos.reshape(3)\n",
    "rot_worldi2=leap_hand.d.site(leap_hand.m.site('contact_index2').id).xmat.reshape(3,3)\n",
    "pos_worldt2=leap_hand.d.site(leap_hand.m.site('contact_thumb2').id).xpos.reshape(3)\n",
    "rot_worldt2=leap_hand.d.site(leap_hand.m.site('contact_thumb2').id).xmat.reshape(3,3)\n",
    "\n",
    "pos_world_palm=leap_hand.d.body(leap_hand.m.body('palm').id).xpos.reshape(3)\n",
    "rot_world_palm=np.reshape(leap_hand.d.body(leap_hand.m.body('palm').id).xmat,[3,3])\n",
    "\n",
    "pos_palmi1=pos_worldi1-pos_world_palm\n",
    "rot_palmi1=rot_world_palm.T @ rot_worldi1\n",
    "pos_palmt1=pos_worldt1-pos_world_palm\n",
    "rot_palmt1=rot_world_palm.T @ rot_worldt1\n",
    "\n",
    "pos_palmi2=pos_worldi2-pos_world_palm\n",
    "rot_palmi2=rot_world_palm.T @ rot_worldi2\n",
    "pos_palmt2=pos_worldt1-pos_world_palm\n",
    "rot_palmt2=rot_world_palm.T @ rot_worldt2"
   ]
  },
  {
   "cell_type": "code",
   "execution_count": 4,
   "metadata": {},
   "outputs": [
    {
     "name": "stdout",
     "output_type": "stream",
     "text": [
      "result_index1 [1.03637883e+00 1.84994063e-04 4.67016263e-01 6.80227245e-02]\n",
      "result_thumb1 [ 1.57001343e+00 -1.89591547e-04  4.25434924e-01 -4.25023042e-01]\n",
      "result_index2 [ 1.34970901e+00  2.07837393e-04  4.72382367e-01 -2.50659767e-01]\n",
      "result_thumb2 [ 1.57001343e+00 -1.89591547e-04  4.25434924e-01 -4.25023042e-01]\n"
     ]
    }
   ],
   "source": [
    "result_index1=IK_index.calculate(pos_palmi1, rot_palmi1,'contact_index')\n",
    "result_thumb1=IK_thumb.calculate(pos_palmt1, rot_palmt1,'contact_thumb')\n",
    "result_index2=IK_index.calculate(pos_palmi2, rot_palmi2,'contact_index')\n",
    "result_thumb2=IK_thumb.calculate(pos_palmt2, rot_palmt2,'contact_thumb')\n",
    "\n",
    "print(\"result_index1\",result_index1)\n",
    "print(\"result_thumb1\",result_thumb1)\n",
    "print(\"result_index2\",result_index2)\n",
    "print(\"result_thumb2\",result_thumb2)"
   ]
  },
  {
   "cell_type": "code",
   "execution_count": 5,
   "metadata": {},
   "outputs": [],
   "source": [
    "def J(model,data,site_name):\n",
    "        # model=mujoco.MjModel.from_xml_path(xml_path)\n",
    "        # data = mujoco.MjData(model)\n",
    "        mujoco.mj_forward(model, data)\n",
    "        jacp = np.zeros((3, model.nv))  # translation jacobian\n",
    "        jacr = np.zeros((3, model.nv)) \n",
    "\n",
    "        site_id=model.site(site_name).id\n",
    "        mujoco.mj_jacSite(model, data, jacp, jacr, site_id)\n",
    "\n",
    "        return np.vstack((jacp, jacr))"
   ]
  },
  {
   "cell_type": "code",
   "execution_count": 6,
   "metadata": {},
   "outputs": [
    {
     "name": "stdout",
     "output_type": "stream",
     "text": [
      "[[-1.14115164e-01 -4.64969878e-04 -6.80118100e-02 -3.19937787e-02]\n",
      " [ 0.00000000e+00 -6.96632983e-02  7.61649532e-06  4.60976973e-06]\n",
      " [-1.87688604e-02  7.85599298e-04  7.58854679e-03  1.00198855e-02]\n",
      " [ 0.00000000e+00 -8.60565469e-01  9.42248460e-05  9.42248460e-05]\n",
      " [ 1.00000000e+00  0.00000000e+00  9.99999983e-01  9.99999983e-01]\n",
      " [ 0.00000000e+00 -5.09339841e-01 -1.59199502e-04 -1.59199502e-04]]\n"
     ]
    }
   ],
   "source": [
    "index_model_path = '/home/sysidea/leap_hand_mujoco/model/leap hand/index_finger.xml'\n",
    "\n",
    "index_m = mujoco.MjModel.from_xml_path(index_model_path)\n",
    "index_d = mujoco.MjData(index_m)\n",
    "\n",
    "index_d.qpos=result_index1\n",
    "mujoco.mj_forward(index_m, index_d)\n",
    "index_J=J(index_m,index_d,'contact_index')\n",
    "print(index_J)"
   ]
  },
  {
   "cell_type": "code",
   "execution_count": 8,
   "metadata": {},
   "outputs": [
    {
     "name": "stdout",
     "output_type": "stream",
     "text": [
      "[[-4.42184769e-20 -2.94453991e-04  9.04419197e-02  4.79958762e-02]\n",
      " [-1.21742115e-01 -2.92524279e-02 -5.75463041e-06  1.25514587e-06]\n",
      " [ 1.99142316e-04 -2.29016929e-05  2.92523850e-02  1.00197735e-02]\n",
      " [-1.00000000e+00  0.00000000e+00  1.89591546e-04  1.89591546e-04]\n",
      " [ 0.00000000e+00  7.82898636e-04 -9.99999676e-01 -9.99999676e-01]\n",
      " [-2.22044605e-16 -9.99999694e-01 -7.82898622e-04 -7.82898622e-04]]\n"
     ]
    }
   ],
   "source": [
    "thumb_model_path = '/home/sysidea/leap_hand_mujoco/model/leap hand/thumb.xml'\n",
    "\n",
    "thumb_m = mujoco.MjModel.from_xml_path(thumb_model_path)\n",
    "thumb_d = mujoco.MjData(thumb_m)\n",
    "\n",
    "thumb_d.qpos=result_thumb1\n",
    "mujoco.mj_forward(thumb_m, thumb_d)\n",
    "thumb_J=J(thumb_m,thumb_d,'contact_thumb')\n",
    "print(thumb_J)"
   ]
  }
 ],
 "metadata": {
  "kernelspec": {
   "display_name": "mujoco_env",
   "language": "python",
   "name": "python3"
  },
  "language_info": {
   "codemirror_mode": {
    "name": "ipython",
    "version": 3
   },
   "file_extension": ".py",
   "mimetype": "text/x-python",
   "name": "python",
   "nbconvert_exporter": "python",
   "pygments_lexer": "ipython3",
   "version": "3.8.19"
  }
 },
 "nbformat": 4,
 "nbformat_minor": 2
}
