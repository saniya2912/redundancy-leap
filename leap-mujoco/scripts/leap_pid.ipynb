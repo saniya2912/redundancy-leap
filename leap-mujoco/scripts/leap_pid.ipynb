{
 "cells": [
  {
   "cell_type": "code",
   "execution_count": 1,
   "metadata": {},
   "outputs": [],
   "source": [
    "import mujoco\n",
    "import numpy as np\n",
    "import matplotlib.pyplot as plt\n",
    "import mujoco.viewer\n",
    "import tempfile\n",
    "import mediapy as media\n",
    "import time"
   ]
  },
  {
   "cell_type": "code",
   "execution_count": 2,
   "metadata": {},
   "outputs": [],
   "source": [
    "model_path = '/home/iitgn-robotics/Saniya/mujoco-3.1.6/model/leap hand/leaphand.xml'\n",
    "#model_path = '/home/iitgn-robotics/Downloads/mujoco-3.1.6-linux-x86_64/mujoco-3.1.6/model/leap hand/test.xml'\n",
    "m = mujoco.MjModel.from_xml_path(model_path)\n",
    "d = mujoco.MjData(m)\n",
    "\n",
    "renderer = mujoco.Renderer(m)"
   ]
  },
  {
   "cell_type": "code",
   "execution_count": 3,
   "metadata": {},
   "outputs": [],
   "source": [
    "# Initialize arrays to store contact forces and weights\n",
    "contact_forces = []\n",
    "weights = []\n",
    "\n",
    "# Initialize list to store frames\n",
    "frames = []\n",
    "cam=mujoco.MjvCamera()\n",
    "\n",
    "options = mujoco.MjvOption()\n",
    "mujoco.mjv_defaultOption(options)\n",
    "options.flags[mujoco.mjtVisFlag.mjVIS_CONTACTPOINT] = True"
   ]
  },
  {
   "cell_type": "code",
   "execution_count": 4,
   "metadata": {},
   "outputs": [],
   "source": [
    "# Simulation parameters\n",
    "sim_duration = 200 # duration in seconds\n",
    "framerate = 30  # frames per second"
   ]
  },
  {
   "cell_type": "code",
   "execution_count": 5,
   "metadata": {},
   "outputs": [],
   "source": [
    "# Desired position for the joint\n",
    "desired_position_0 = 1.0  # Target position\n",
    "kp = 10.0  # Proportional gain"
   ]
  },
  {
   "cell_type": "code",
   "execution_count": 6,
   "metadata": {},
   "outputs": [],
   "source": [
    "def mycontroller(model, data):\n",
    "    if model.nu == model.nv:\n",
    "        print(\"working\")\n",
    "        data.ctrl = 2 #-0.1 * np.array(data.qvel)\n"
   ]
  },
  {
   "cell_type": "code",
   "execution_count": 7,
   "metadata": {},
   "outputs": [],
   "source": [
    "def proportional_controller(model, data, desired_position, kp):\n",
    "    # Error: difference between desired position and current position\n",
    "    error = desired_position_0 - data.qpos[0]  # Assuming we are controlling the first joint\n",
    "\n",
    "    # Proportional control law\n",
    "    control_input = kp * error\n",
    "\n",
    "    # Set the control input\n",
    "    data.ctrl[0] = control_input  # Assuming we are controlling the first actuator"
   ]
  },
  {
   "cell_type": "code",
   "execution_count": 9,
   "metadata": {},
   "outputs": [],
   "source": [
    "while\n",
    "mujoco.viewer.launch(m,d) #mujoco_viewer.MujocoViewer(model, data)"
   ]
  },
  {
   "cell_type": "code",
   "execution_count": 8,
   "metadata": {},
   "outputs": [
    {
     "name": "stdout",
     "output_type": "stream",
     "text": [
      "Number of actuators in the model: 16\n"
     ]
    }
   ],
   "source": [
    "# Print the number of actuators\n",
    "print(f'Number of actuators in the model: {m.nu}')"
   ]
  },
  {
   "cell_type": "code",
   "execution_count": null,
   "metadata": {},
   "outputs": [],
   "source": [
    "# Show the video using mediapy\n",
    "media.show_video(frames, fps=framerate)"
   ]
  }
 ],
 "metadata": {
  "kernelspec": {
   "display_name": "mujoco_env",
   "language": "python",
   "name": "python3"
  },
  "language_info": {
   "codemirror_mode": {
    "name": "ipython",
    "version": 3
   },
   "file_extension": ".py",
   "mimetype": "text/x-python",
   "name": "python",
   "nbconvert_exporter": "python",
   "pygments_lexer": "ipython3",
   "version": "3.10.14"
  }
 },
 "nbformat": 4,
 "nbformat_minor": 2
}
